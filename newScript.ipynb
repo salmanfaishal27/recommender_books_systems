{
 "cells": [
  {
   "cell_type": "code",
   "metadata": {
    "tags": [],
    "cell_id": "00000-570cb6ef-00a1-473e-981e-6b3ef1024c61",
    "deepnote_to_be_reexecuted": false,
    "source_hash": "b623e53d",
    "execution_start": 1626100974670,
    "deepnote_cell_type": "code"
   },
   "source": "",
   "execution_count": 0,
   "outputs": []
  },
  {
   "cell_type": "code",
   "metadata": {
    "cell_id": "00000-44d500e9-2922-4c16-b534-da0787dd3cf1",
    "deepnote_to_be_reexecuted": false,
    "source_hash": "24b26b86",
    "execution_start": 1626100974671,
    "execution_millis": 3665,
    "deepnote_cell_type": "code"
   },
   "source": "import pandas as pd\nimport numpy as np\nimport matplotlib.pyplot as plt\nimport seaborn as sns",
   "outputs": [],
   "execution_count": null
  },
  {
   "cell_type": "code",
   "metadata": {
    "cell_id": "00001-f4dcd90a-8d46-48c8-8585-fd8593fee689",
    "deepnote_to_be_reexecuted": false,
    "source_hash": "3eedc24d",
    "execution_start": 1626101302849,
    "execution_millis": 90,
    "deepnote_cell_type": "code"
   },
   "source": "books = pd.read_csv('./dataset/books.csv')\nbooks = books.drop(['image_url', 'small_image_url', 'best_book_id', 'isbn', 'isbn13', 'original_title', 'language_code', 'ratings_count', 'work_ratings_count', 'work_text_reviews_count', 'ratings_1', 'ratings_2', 'ratings_3', 'ratings_4', 'ratings_5', 'book_id', 'work_id', 'books_count'], axis = 1)\nbooks.set_index('id')\nbooks.head()",
   "outputs": [
    {
     "output_type": "execute_result",
     "execution_count": 14,
     "data": {
      "application/vnd.deepnote.dataframe.v2+json": {
       "row_count": 5,
       "column_count": 5,
       "columns": [
        {
         "name": "id",
         "dtype": "int64",
         "stats": {
          "unique_count": 5,
          "nan_count": 0,
          "min": "1",
          "max": "5",
          "histogram": [
           {
            "bin_start": 1,
            "bin_end": 1.4,
            "count": 1
           },
           {
            "bin_start": 1.4,
            "bin_end": 1.8,
            "count": 0
           },
           {
            "bin_start": 1.8,
            "bin_end": 2.2,
            "count": 1
           },
           {
            "bin_start": 2.2,
            "bin_end": 2.6,
            "count": 0
           },
           {
            "bin_start": 2.6,
            "bin_end": 3,
            "count": 0
           },
           {
            "bin_start": 3,
            "bin_end": 3.4000000000000004,
            "count": 1
           },
           {
            "bin_start": 3.4000000000000004,
            "bin_end": 3.8000000000000003,
            "count": 0
           },
           {
            "bin_start": 3.8000000000000003,
            "bin_end": 4.2,
            "count": 1
           },
           {
            "bin_start": 4.2,
            "bin_end": 4.6,
            "count": 0
           },
           {
            "bin_start": 4.6,
            "bin_end": 5,
            "count": 1
           }
          ]
         }
        },
        {
         "name": "authors",
         "dtype": "object",
         "stats": {
          "unique_count": 5,
          "nan_count": 0,
          "categories": [
           {
            "name": "Suzanne Collins",
            "count": 1
           },
           {
            "name": "J.K. Rowling, Mary GrandPré",
            "count": 1
           },
           {
            "name": "3 others",
            "count": 3
           }
          ]
         }
        },
        {
         "name": "original_publication_year",
         "dtype": "float64",
         "stats": {
          "unique_count": 5,
          "nan_count": 0,
          "min": "1925.0",
          "max": "2008.0",
          "histogram": [
           {
            "bin_start": 1925,
            "bin_end": 1933.3,
            "count": 1
           },
           {
            "bin_start": 1933.3,
            "bin_end": 1941.6,
            "count": 0
           },
           {
            "bin_start": 1941.6,
            "bin_end": 1949.9,
            "count": 0
           },
           {
            "bin_start": 1949.9,
            "bin_end": 1958.2,
            "count": 0
           },
           {
            "bin_start": 1958.2,
            "bin_end": 1966.5,
            "count": 1
           },
           {
            "bin_start": 1966.5,
            "bin_end": 1974.8,
            "count": 0
           },
           {
            "bin_start": 1974.8,
            "bin_end": 1983.1,
            "count": 0
           },
           {
            "bin_start": 1983.1,
            "bin_end": 1991.4,
            "count": 0
           },
           {
            "bin_start": 1991.4,
            "bin_end": 1999.7,
            "count": 1
           },
           {
            "bin_start": 1999.7,
            "bin_end": 2008,
            "count": 2
           }
          ]
         }
        },
        {
         "name": "title",
         "dtype": "object",
         "stats": {
          "unique_count": 5,
          "nan_count": 0,
          "categories": [
           {
            "name": "The Hunger Games (The Hunger Games, #1)",
            "count": 1
           },
           {
            "name": "Harry Potter and the Sorcerer's Stone (Harry Potter, #1)",
            "count": 1
           },
           {
            "name": "3 others",
            "count": 3
           }
          ]
         }
        },
        {
         "name": "average_rating",
         "dtype": "float64",
         "stats": {
          "unique_count": 5,
          "nan_count": 0,
          "min": "3.57",
          "max": "4.44",
          "histogram": [
           {
            "bin_start": 3.57,
            "bin_end": 3.657,
            "count": 1
           },
           {
            "bin_start": 3.657,
            "bin_end": 3.7439999999999998,
            "count": 0
           },
           {
            "bin_start": 3.7439999999999998,
            "bin_end": 3.831,
            "count": 0
           },
           {
            "bin_start": 3.831,
            "bin_end": 3.918,
            "count": 1
           },
           {
            "bin_start": 3.918,
            "bin_end": 4.005,
            "count": 0
           },
           {
            "bin_start": 4.005,
            "bin_end": 4.0920000000000005,
            "count": 0
           },
           {
            "bin_start": 4.0920000000000005,
            "bin_end": 4.179,
            "count": 0
           },
           {
            "bin_start": 4.179,
            "bin_end": 4.266,
            "count": 1
           },
           {
            "bin_start": 4.266,
            "bin_end": 4.353000000000001,
            "count": 1
           },
           {
            "bin_start": 4.353000000000001,
            "bin_end": 4.44,
            "count": 1
           }
          ]
         }
        },
        {
         "name": "_deepnote_index_column",
         "dtype": "int64"
        }
       ],
       "rows_top": [
        {
         "id": 1,
         "authors": "Suzanne Collins",
         "original_publication_year": 2008,
         "title": "The Hunger Games (The Hunger Games, #1)",
         "average_rating": 4.34,
         "_deepnote_index_column": 0
        },
        {
         "id": 2,
         "authors": "J.K. Rowling, Mary GrandPré",
         "original_publication_year": 1997,
         "title": "Harry Potter and the Sorcerer's Stone (Harry Potter, #1)",
         "average_rating": 4.44,
         "_deepnote_index_column": 1
        },
        {
         "id": 3,
         "authors": "Stephenie Meyer",
         "original_publication_year": 2005,
         "title": "Twilight (Twilight, #1)",
         "average_rating": 3.57,
         "_deepnote_index_column": 2
        },
        {
         "id": 4,
         "authors": "Harper Lee",
         "original_publication_year": 1960,
         "title": "To Kill a Mockingbird",
         "average_rating": 4.25,
         "_deepnote_index_column": 3
        },
        {
         "id": 5,
         "authors": "F. Scott Fitzgerald",
         "original_publication_year": 1925,
         "title": "The Great Gatsby",
         "average_rating": 3.89,
         "_deepnote_index_column": 4
        }
       ],
       "rows_bottom": null
      },
      "text/plain": "   id                      authors  original_publication_year  \\\n0   1              Suzanne Collins                     2008.0   \n1   2  J.K. Rowling, Mary GrandPré                     1997.0   \n2   3              Stephenie Meyer                     2005.0   \n3   4                   Harper Lee                     1960.0   \n4   5          F. Scott Fitzgerald                     1925.0   \n\n                                               title  average_rating  \n0            The Hunger Games (The Hunger Games, #1)            4.34  \n1  Harry Potter and the Sorcerer's Stone (Harry P...            4.44  \n2                            Twilight (Twilight, #1)            3.57  \n3                              To Kill a Mockingbird            4.25  \n4                                   The Great Gatsby            3.89  ",
      "text/html": "<div>\n<style scoped>\n    .dataframe tbody tr th:only-of-type {\n        vertical-align: middle;\n    }\n\n    .dataframe tbody tr th {\n        vertical-align: top;\n    }\n\n    .dataframe thead th {\n        text-align: right;\n    }\n</style>\n<table border=\"1\" class=\"dataframe\">\n  <thead>\n    <tr style=\"text-align: right;\">\n      <th></th>\n      <th>id</th>\n      <th>authors</th>\n      <th>original_publication_year</th>\n      <th>title</th>\n      <th>average_rating</th>\n    </tr>\n  </thead>\n  <tbody>\n    <tr>\n      <th>0</th>\n      <td>1</td>\n      <td>Suzanne Collins</td>\n      <td>2008.0</td>\n      <td>The Hunger Games (The Hunger Games, #1)</td>\n      <td>4.34</td>\n    </tr>\n    <tr>\n      <th>1</th>\n      <td>2</td>\n      <td>J.K. Rowling, Mary GrandPré</td>\n      <td>1997.0</td>\n      <td>Harry Potter and the Sorcerer's Stone (Harry P...</td>\n      <td>4.44</td>\n    </tr>\n    <tr>\n      <th>2</th>\n      <td>3</td>\n      <td>Stephenie Meyer</td>\n      <td>2005.0</td>\n      <td>Twilight (Twilight, #1)</td>\n      <td>3.57</td>\n    </tr>\n    <tr>\n      <th>3</th>\n      <td>4</td>\n      <td>Harper Lee</td>\n      <td>1960.0</td>\n      <td>To Kill a Mockingbird</td>\n      <td>4.25</td>\n    </tr>\n    <tr>\n      <th>4</th>\n      <td>5</td>\n      <td>F. Scott Fitzgerald</td>\n      <td>1925.0</td>\n      <td>The Great Gatsby</td>\n      <td>3.89</td>\n    </tr>\n  </tbody>\n</table>\n</div>"
     },
     "metadata": {}
    }
   ],
   "execution_count": null
  },
  {
   "cell_type": "markdown",
   "source": "# Content-based Filtering",
   "metadata": {
    "cell_id": "00002-2291cf39-0f1e-417a-ba9c-265a3bf230e2",
    "deepnote_cell_type": "markdown"
   }
  },
  {
   "cell_type": "code",
   "metadata": {
    "cell_id": "00003-cee86a8e-db0a-4c0d-9eb9-f8ac91770ac6",
    "deepnote_to_be_reexecuted": false,
    "source_hash": "48fe7a50",
    "execution_start": 1626100978615,
    "execution_millis": 73,
    "deepnote_cell_type": "code"
   },
   "source": "content = books[['title', 'authors', 'average_rating']]\ncontent = content.astype('str')\ncontent.head(5)",
   "outputs": [
    {
     "output_type": "execute_result",
     "execution_count": 3,
     "data": {
      "application/vnd.deepnote.dataframe.v2+json": {
       "row_count": 5,
       "column_count": 3,
       "columns": [
        {
         "name": "title",
         "dtype": "object",
         "stats": {
          "unique_count": 5,
          "nan_count": 0,
          "categories": [
           {
            "name": "The Hunger Games (The Hunger Games, #1)",
            "count": 1
           },
           {
            "name": "Harry Potter and the Sorcerer's Stone (Harry Potter, #1)",
            "count": 1
           },
           {
            "name": "3 others",
            "count": 3
           }
          ]
         }
        },
        {
         "name": "authors",
         "dtype": "object",
         "stats": {
          "unique_count": 5,
          "nan_count": 0,
          "categories": [
           {
            "name": "Suzanne Collins",
            "count": 1
           },
           {
            "name": "J.K. Rowling, Mary GrandPré",
            "count": 1
           },
           {
            "name": "3 others",
            "count": 3
           }
          ]
         }
        },
        {
         "name": "average_rating",
         "dtype": "object",
         "stats": {
          "unique_count": 5,
          "nan_count": 0,
          "categories": [
           {
            "name": "4.34",
            "count": 1
           },
           {
            "name": "4.44",
            "count": 1
           },
           {
            "name": "3 others",
            "count": 3
           }
          ]
         }
        },
        {
         "name": "_deepnote_index_column",
         "dtype": "int64"
        }
       ],
       "rows_top": [
        {
         "title": "The Hunger Games (The Hunger Games, #1)",
         "authors": "Suzanne Collins",
         "average_rating": "4.34",
         "_deepnote_index_column": 0
        },
        {
         "title": "Harry Potter and the Sorcerer's Stone (Harry Potter, #1)",
         "authors": "J.K. Rowling, Mary GrandPré",
         "average_rating": "4.44",
         "_deepnote_index_column": 1
        },
        {
         "title": "Twilight (Twilight, #1)",
         "authors": "Stephenie Meyer",
         "average_rating": "3.57",
         "_deepnote_index_column": 2
        },
        {
         "title": "To Kill a Mockingbird",
         "authors": "Harper Lee",
         "average_rating": "4.25",
         "_deepnote_index_column": 3
        },
        {
         "title": "The Great Gatsby",
         "authors": "F. Scott Fitzgerald",
         "average_rating": "3.89",
         "_deepnote_index_column": 4
        }
       ],
       "rows_bottom": null
      },
      "text/plain": "                                               title  \\\n0            The Hunger Games (The Hunger Games, #1)   \n1  Harry Potter and the Sorcerer's Stone (Harry P...   \n2                            Twilight (Twilight, #1)   \n3                              To Kill a Mockingbird   \n4                                   The Great Gatsby   \n\n                       authors average_rating  \n0              Suzanne Collins           4.34  \n1  J.K. Rowling, Mary GrandPré           4.44  \n2              Stephenie Meyer           3.57  \n3                   Harper Lee           4.25  \n4          F. Scott Fitzgerald           3.89  ",
      "text/html": "<div>\n<style scoped>\n    .dataframe tbody tr th:only-of-type {\n        vertical-align: middle;\n    }\n\n    .dataframe tbody tr th {\n        vertical-align: top;\n    }\n\n    .dataframe thead th {\n        text-align: right;\n    }\n</style>\n<table border=\"1\" class=\"dataframe\">\n  <thead>\n    <tr style=\"text-align: right;\">\n      <th></th>\n      <th>title</th>\n      <th>authors</th>\n      <th>average_rating</th>\n    </tr>\n  </thead>\n  <tbody>\n    <tr>\n      <th>0</th>\n      <td>The Hunger Games (The Hunger Games, #1)</td>\n      <td>Suzanne Collins</td>\n      <td>4.34</td>\n    </tr>\n    <tr>\n      <th>1</th>\n      <td>Harry Potter and the Sorcerer's Stone (Harry P...</td>\n      <td>J.K. Rowling, Mary GrandPré</td>\n      <td>4.44</td>\n    </tr>\n    <tr>\n      <th>2</th>\n      <td>Twilight (Twilight, #1)</td>\n      <td>Stephenie Meyer</td>\n      <td>3.57</td>\n    </tr>\n    <tr>\n      <th>3</th>\n      <td>To Kill a Mockingbird</td>\n      <td>Harper Lee</td>\n      <td>4.25</td>\n    </tr>\n    <tr>\n      <th>4</th>\n      <td>The Great Gatsby</td>\n      <td>F. Scott Fitzgerald</td>\n      <td>3.89</td>\n    </tr>\n  </tbody>\n</table>\n</div>"
     },
     "metadata": {}
    }
   ],
   "execution_count": null
  },
  {
   "cell_type": "code",
   "metadata": {
    "cell_id": "00004-29ecfc0a-fb19-4f67-8ae3-5a3e83c12e9f",
    "deepnote_to_be_reexecuted": false,
    "source_hash": "c41854f6",
    "execution_start": 1626100978692,
    "execution_millis": 124,
    "deepnote_cell_type": "code"
   },
   "source": "content['content'] = content['title'] + ' ' + content['authors'] + ' ' + content['average_rating']\nindices = pd.Series(content.index, index=content['title'])\ncontent.head(5)",
   "outputs": [
    {
     "output_type": "execute_result",
     "execution_count": 4,
     "data": {
      "application/vnd.deepnote.dataframe.v2+json": {
       "row_count": 5,
       "column_count": 4,
       "columns": [
        {
         "name": "title",
         "dtype": "object",
         "stats": {
          "unique_count": 5,
          "nan_count": 0,
          "categories": [
           {
            "name": "The Hunger Games (The Hunger Games, #1)",
            "count": 1
           },
           {
            "name": "Harry Potter and the Sorcerer's Stone (Harry Potter, #1)",
            "count": 1
           },
           {
            "name": "3 others",
            "count": 3
           }
          ]
         }
        },
        {
         "name": "authors",
         "dtype": "object",
         "stats": {
          "unique_count": 5,
          "nan_count": 0,
          "categories": [
           {
            "name": "Suzanne Collins",
            "count": 1
           },
           {
            "name": "J.K. Rowling, Mary GrandPré",
            "count": 1
           },
           {
            "name": "3 others",
            "count": 3
           }
          ]
         }
        },
        {
         "name": "average_rating",
         "dtype": "object",
         "stats": {
          "unique_count": 5,
          "nan_count": 0,
          "categories": [
           {
            "name": "4.34",
            "count": 1
           },
           {
            "name": "4.44",
            "count": 1
           },
           {
            "name": "3 others",
            "count": 3
           }
          ]
         }
        },
        {
         "name": "content",
         "dtype": "object",
         "stats": {
          "unique_count": 5,
          "nan_count": 0,
          "categories": [
           {
            "name": "The Hunger Games (The Hunger Games, #1) Suzanne Collins 4.34",
            "count": 1
           },
           {
            "name": "Harry Potter and the Sorcerer's Stone (Harry Potter, #1) J.K. Rowling, Mary GrandPré 4.44",
            "count": 1
           },
           {
            "name": "3 others",
            "count": 3
           }
          ]
         }
        },
        {
         "name": "_deepnote_index_column",
         "dtype": "int64"
        }
       ],
       "rows_top": [
        {
         "title": "The Hunger Games (The Hunger Games, #1)",
         "authors": "Suzanne Collins",
         "average_rating": "4.34",
         "content": "The Hunger Games (The Hunger Games, #1) Suzanne Collins 4.34",
         "_deepnote_index_column": 0
        },
        {
         "title": "Harry Potter and the Sorcerer's Stone (Harry Potter, #1)",
         "authors": "J.K. Rowling, Mary GrandPré",
         "average_rating": "4.44",
         "content": "Harry Potter and the Sorcerer's Stone (Harry Potter, #1) J.K. Rowling, Mary GrandPré 4.44",
         "_deepnote_index_column": 1
        },
        {
         "title": "Twilight (Twilight, #1)",
         "authors": "Stephenie Meyer",
         "average_rating": "3.57",
         "content": "Twilight (Twilight, #1) Stephenie Meyer 3.57",
         "_deepnote_index_column": 2
        },
        {
         "title": "To Kill a Mockingbird",
         "authors": "Harper Lee",
         "average_rating": "4.25",
         "content": "To Kill a Mockingbird Harper Lee 4.25",
         "_deepnote_index_column": 3
        },
        {
         "title": "The Great Gatsby",
         "authors": "F. Scott Fitzgerald",
         "average_rating": "3.89",
         "content": "The Great Gatsby F. Scott Fitzgerald 3.89",
         "_deepnote_index_column": 4
        }
       ],
       "rows_bottom": null
      },
      "text/plain": "                                               title  \\\n0            The Hunger Games (The Hunger Games, #1)   \n1  Harry Potter and the Sorcerer's Stone (Harry P...   \n2                            Twilight (Twilight, #1)   \n3                              To Kill a Mockingbird   \n4                                   The Great Gatsby   \n\n                       authors average_rating  \\\n0              Suzanne Collins           4.34   \n1  J.K. Rowling, Mary GrandPré           4.44   \n2              Stephenie Meyer           3.57   \n3                   Harper Lee           4.25   \n4          F. Scott Fitzgerald           3.89   \n\n                                             content  \n0  The Hunger Games (The Hunger Games, #1) Suzann...  \n1  Harry Potter and the Sorcerer's Stone (Harry P...  \n2       Twilight (Twilight, #1) Stephenie Meyer 3.57  \n3              To Kill a Mockingbird Harper Lee 4.25  \n4          The Great Gatsby F. Scott Fitzgerald 3.89  ",
      "text/html": "<div>\n<style scoped>\n    .dataframe tbody tr th:only-of-type {\n        vertical-align: middle;\n    }\n\n    .dataframe tbody tr th {\n        vertical-align: top;\n    }\n\n    .dataframe thead th {\n        text-align: right;\n    }\n</style>\n<table border=\"1\" class=\"dataframe\">\n  <thead>\n    <tr style=\"text-align: right;\">\n      <th></th>\n      <th>title</th>\n      <th>authors</th>\n      <th>average_rating</th>\n      <th>content</th>\n    </tr>\n  </thead>\n  <tbody>\n    <tr>\n      <th>0</th>\n      <td>The Hunger Games (The Hunger Games, #1)</td>\n      <td>Suzanne Collins</td>\n      <td>4.34</td>\n      <td>The Hunger Games (The Hunger Games, #1) Suzann...</td>\n    </tr>\n    <tr>\n      <th>1</th>\n      <td>Harry Potter and the Sorcerer's Stone (Harry P...</td>\n      <td>J.K. Rowling, Mary GrandPré</td>\n      <td>4.44</td>\n      <td>Harry Potter and the Sorcerer's Stone (Harry P...</td>\n    </tr>\n    <tr>\n      <th>2</th>\n      <td>Twilight (Twilight, #1)</td>\n      <td>Stephenie Meyer</td>\n      <td>3.57</td>\n      <td>Twilight (Twilight, #1) Stephenie Meyer 3.57</td>\n    </tr>\n    <tr>\n      <th>3</th>\n      <td>To Kill a Mockingbird</td>\n      <td>Harper Lee</td>\n      <td>4.25</td>\n      <td>To Kill a Mockingbird Harper Lee 4.25</td>\n    </tr>\n    <tr>\n      <th>4</th>\n      <td>The Great Gatsby</td>\n      <td>F. Scott Fitzgerald</td>\n      <td>3.89</td>\n      <td>The Great Gatsby F. Scott Fitzgerald 3.89</td>\n    </tr>\n  </tbody>\n</table>\n</div>"
     },
     "metadata": {}
    }
   ],
   "execution_count": null
  },
  {
   "cell_type": "code",
   "metadata": {
    "cell_id": "00005-93f809ce-e141-4118-af21-0e30299a19be",
    "deepnote_to_be_reexecuted": false,
    "source_hash": "f75dd214",
    "execution_start": 1626100978820,
    "execution_millis": 612,
    "deepnote_cell_type": "code"
   },
   "source": "#removing stopwords\ntfidf = TfidfVectorizer(stop_words='english')\n\n#Construct the required TF-IDF matrix by fitting and transforming the data\ntfidf_matrix = tfidf.fit_transform(content['authors'])\n\n#Output the shape of tfidf_matrix\ntfidf_matrix.shape",
   "outputs": [
    {
     "output_type": "error",
     "ename": "NameError",
     "evalue": "name 'TfidfVectorizer' is not defined",
     "traceback": [
      "\u001b[0;31m---------------------------------------------------------------------------\u001b[0m",
      "\u001b[0;31mNameError\u001b[0m                                 Traceback (most recent call last)",
      "\u001b[0;32m/tmp/ipykernel_83/856724719.py\u001b[0m in \u001b[0;36m<module>\u001b[0;34m\u001b[0m\n\u001b[1;32m      1\u001b[0m \u001b[0;31m#removing stopwords\u001b[0m\u001b[0;34m\u001b[0m\u001b[0;34m\u001b[0m\u001b[0;34m\u001b[0m\u001b[0m\n\u001b[0;32m----> 2\u001b[0;31m \u001b[0mtfidf\u001b[0m \u001b[0;34m=\u001b[0m \u001b[0mTfidfVectorizer\u001b[0m\u001b[0;34m(\u001b[0m\u001b[0mstop_words\u001b[0m\u001b[0;34m=\u001b[0m\u001b[0;34m'english'\u001b[0m\u001b[0;34m)\u001b[0m\u001b[0;34m\u001b[0m\u001b[0;34m\u001b[0m\u001b[0m\n\u001b[0m\u001b[1;32m      3\u001b[0m \u001b[0;34m\u001b[0m\u001b[0m\n\u001b[1;32m      4\u001b[0m \u001b[0;31m#Construct the required TF-IDF matrix by fitting and transforming the data\u001b[0m\u001b[0;34m\u001b[0m\u001b[0;34m\u001b[0m\u001b[0;34m\u001b[0m\u001b[0m\n\u001b[1;32m      5\u001b[0m \u001b[0mtfidf_matrix\u001b[0m \u001b[0;34m=\u001b[0m \u001b[0mtfidf\u001b[0m\u001b[0;34m.\u001b[0m\u001b[0mfit_transform\u001b[0m\u001b[0;34m(\u001b[0m\u001b[0mcontent\u001b[0m\u001b[0;34m[\u001b[0m\u001b[0;34m'authors'\u001b[0m\u001b[0;34m]\u001b[0m\u001b[0;34m)\u001b[0m\u001b[0;34m\u001b[0m\u001b[0;34m\u001b[0m\u001b[0m\n",
      "\u001b[0;31mNameError\u001b[0m: name 'TfidfVectorizer' is not defined"
     ]
    }
   ],
   "execution_count": null
  },
  {
   "cell_type": "code",
   "metadata": {
    "cell_id": "00006-4c5db96f-8232-4a28-aa0e-3871562064cf",
    "deepnote_to_be_reexecuted": true,
    "source_hash": "65bcdb95",
    "execution_start": 1620773957522,
    "execution_millis": 783,
    "deepnote_cell_type": "code"
   },
   "source": "count = CountVectorizer(stop_words='english')\ncount_matrix = count.fit_transform(content['content'])\ncosine_sim_content = cosine_similarity(count_matrix, count_matrix)",
   "execution_count": null,
   "outputs": []
  },
  {
   "cell_type": "code",
   "metadata": {
    "cell_id": "00007-1ba47a25-4fca-417b-b40c-88e98afa49d2",
    "deepnote_to_be_reexecuted": true,
    "source_hash": "d18651e4",
    "execution_start": 1620773958311,
    "execution_millis": 19,
    "deepnote_cell_type": "code"
   },
   "source": "def get_recommendations(title, cosine_sim=cosine_sim_content):\n    idx = indices[title]\n\n    # Get the pairwsie similarity scores of all books with that book\n    sim_scores = list(enumerate(cosine_sim_content[idx]))\n\n    # Sort the books based on the similarity scores\n    sim_scores = sorted(sim_scores, key=lambda x: x[1], reverse=True)\n\n    # Get the scores of the 10 most similar books\n    sim_scores = sim_scores[1:11]\n\n    # Get the book indices\n    book_indices = [i[0] for i in sim_scores]\n\n    # Return the top 10 most similar books\n    return list(content['title'].iloc[book_indices])",
   "execution_count": null,
   "outputs": []
  },
  {
   "cell_type": "code",
   "metadata": {
    "cell_id": "00008-7b38c54c-2a4e-4d36-b86e-95956a5704c4",
    "deepnote_to_be_reexecuted": true,
    "source_hash": "c9314d8e",
    "execution_start": 1620773958336,
    "execution_millis": 8,
    "deepnote_cell_type": "code"
   },
   "source": "def book_shows(book):\n    for book in book:\n        if book != 'nan':\n            print(book)",
   "execution_count": null,
   "outputs": []
  },
  {
   "cell_type": "code",
   "metadata": {
    "cell_id": "00009-2a261cec-1365-4ff4-aa6b-46e3cef93e7a",
    "deepnote_to_be_reexecuted": true,
    "source_hash": "8b7e6e8b",
    "execution_start": 1620773958359,
    "execution_millis": 11,
    "deepnote_cell_type": "code"
   },
   "source": "book_shows(get_recommendations(\"Harry Potter and the Sorcerer's Stone (Harry Potter, #1)\"))",
   "execution_count": null,
   "outputs": [
    {
     "name": "stdout",
     "text": "Harry Potter and the Goblet of Fire (Harry Potter, #4)\nThe Harry Potter Collection 1-4 (Harry Potter, #1-4)\nHarry Potter and the Order of the Phoenix (Harry Potter, #5)\nHarry Potter and the Chamber of Secrets (Harry Potter, #2)\nHarry Potter and the Deathly Hallows (Harry Potter, #7)\nHarry Potter and the Half-Blood Prince (Harry Potter, #6)\nHarry Potter Boxed Set, Books 1-5 (Harry Potter, #1-5)\nHarry Potter and the Prisoner of Azkaban (Harry Potter, #3)\nHarry Potter Boxset (Harry Potter, #1-7)\nHarry Potter Collection (Harry Potter, #1-6)\n",
     "output_type": "stream"
    }
   ]
  },
  {
   "cell_type": "markdown",
   "source": "# Collaborative Filtering",
   "metadata": {
    "cell_id": "00010-bafbc531-d97c-473c-920d-4a199fd81aa0",
    "deepnote_cell_type": "markdown"
   }
  },
  {
   "cell_type": "code",
   "metadata": {
    "cell_id": "00011-e86420f9-96d2-43de-887b-927ef8393872",
    "deepnote_to_be_reexecuted": true,
    "source_hash": "b368cde7",
    "execution_start": 1620773958362,
    "execution_millis": 51,
    "deepnote_cell_type": "code"
   },
   "source": "reader = Reader()",
   "execution_count": null,
   "outputs": []
  },
  {
   "cell_type": "code",
   "metadata": {
    "cell_id": "00012-913f6791-1296-489c-a28d-018032934e20",
    "deepnote_to_be_reexecuted": true,
    "source_hash": "e38adb0",
    "execution_start": 1620773958413,
    "execution_millis": 170,
    "deepnote_cell_type": "code"
   },
   "source": "ratings = pd.read_csv('./dataset/ratings.csv')\nratings.head(5)",
   "execution_count": null,
   "outputs": [
    {
     "output_type": "execute_result",
     "execution_count": 11,
     "data": {
      "application/vnd.deepnote.dataframe.v2+json": {
       "row_count": 5,
       "column_count": 3,
       "columns": [
        {
         "name": "book_id",
         "dtype": "int64",
         "stats": {
          "unique_count": 1,
          "nan_count": 0,
          "min": "1",
          "max": "1",
          "histogram": [
           {
            "bin_start": 0.5,
            "bin_end": 0.6,
            "count": 0
           },
           {
            "bin_start": 0.6,
            "bin_end": 0.7,
            "count": 0
           },
           {
            "bin_start": 0.7,
            "bin_end": 0.8,
            "count": 0
           },
           {
            "bin_start": 0.8,
            "bin_end": 0.9,
            "count": 0
           },
           {
            "bin_start": 0.9,
            "bin_end": 1,
            "count": 0
           },
           {
            "bin_start": 1,
            "bin_end": 1.1,
            "count": 5
           },
           {
            "bin_start": 1.1,
            "bin_end": 1.2000000000000002,
            "count": 0
           },
           {
            "bin_start": 1.2000000000000002,
            "bin_end": 1.3,
            "count": 0
           },
           {
            "bin_start": 1.3,
            "bin_end": 1.4,
            "count": 0
           },
           {
            "bin_start": 1.4,
            "bin_end": 1.5,
            "count": 0
           }
          ]
         }
        },
        {
         "name": "user_id",
         "dtype": "int64",
         "stats": {
          "unique_count": 5,
          "nan_count": 0,
          "min": "314",
          "max": "1185",
          "histogram": [
           {
            "bin_start": 314,
            "bin_end": 401.1,
            "count": 1
           },
           {
            "bin_start": 401.1,
            "bin_end": 488.2,
            "count": 1
           },
           {
            "bin_start": 488.2,
            "bin_end": 575.3,
            "count": 0
           },
           {
            "bin_start": 575.3,
            "bin_end": 662.4,
            "count": 1
           },
           {
            "bin_start": 662.4,
            "bin_end": 749.5,
            "count": 0
           },
           {
            "bin_start": 749.5,
            "bin_end": 836.5999999999999,
            "count": 0
           },
           {
            "bin_start": 836.5999999999999,
            "bin_end": 923.6999999999999,
            "count": 0
           },
           {
            "bin_start": 923.6999999999999,
            "bin_end": 1010.8,
            "count": 0
           },
           {
            "bin_start": 1010.8,
            "bin_end": 1097.9,
            "count": 0
           },
           {
            "bin_start": 1097.9,
            "bin_end": 1185,
            "count": 2
           }
          ]
         }
        },
        {
         "name": "rating",
         "dtype": "int64",
         "stats": {
          "unique_count": 3,
          "nan_count": 0,
          "min": "3",
          "max": "5",
          "histogram": [
           {
            "bin_start": 3,
            "bin_end": 3.2,
            "count": 1
           },
           {
            "bin_start": 3.2,
            "bin_end": 3.4,
            "count": 0
           },
           {
            "bin_start": 3.4,
            "bin_end": 3.6,
            "count": 0
           },
           {
            "bin_start": 3.6,
            "bin_end": 3.8,
            "count": 0
           },
           {
            "bin_start": 3.8,
            "bin_end": 4,
            "count": 0
           },
           {
            "bin_start": 4,
            "bin_end": 4.2,
            "count": 2
           },
           {
            "bin_start": 4.2,
            "bin_end": 4.4,
            "count": 0
           },
           {
            "bin_start": 4.4,
            "bin_end": 4.6,
            "count": 0
           },
           {
            "bin_start": 4.6,
            "bin_end": 4.8,
            "count": 0
           },
           {
            "bin_start": 4.8,
            "bin_end": 5,
            "count": 2
           }
          ]
         }
        },
        {
         "name": "_deepnote_index_column",
         "dtype": "int64"
        }
       ],
       "rows_top": [
        {
         "book_id": 1,
         "user_id": 314,
         "rating": 5,
         "_deepnote_index_column": 0
        },
        {
         "book_id": 1,
         "user_id": 439,
         "rating": 3,
         "_deepnote_index_column": 1
        },
        {
         "book_id": 1,
         "user_id": 588,
         "rating": 5,
         "_deepnote_index_column": 2
        },
        {
         "book_id": 1,
         "user_id": 1169,
         "rating": 4,
         "_deepnote_index_column": 3
        },
        {
         "book_id": 1,
         "user_id": 1185,
         "rating": 4,
         "_deepnote_index_column": 4
        }
       ],
       "rows_bottom": null
      },
      "text/plain": "   book_id  user_id  rating\n0        1      314       5\n1        1      439       3\n2        1      588       5\n3        1     1169       4\n4        1     1185       4",
      "text/html": "<div>\n<style scoped>\n    .dataframe tbody tr th:only-of-type {\n        vertical-align: middle;\n    }\n\n    .dataframe tbody tr th {\n        vertical-align: top;\n    }\n\n    .dataframe thead th {\n        text-align: right;\n    }\n</style>\n<table border=\"1\" class=\"dataframe\">\n  <thead>\n    <tr style=\"text-align: right;\">\n      <th></th>\n      <th>book_id</th>\n      <th>user_id</th>\n      <th>rating</th>\n    </tr>\n  </thead>\n  <tbody>\n    <tr>\n      <th>0</th>\n      <td>1</td>\n      <td>314</td>\n      <td>5</td>\n    </tr>\n    <tr>\n      <th>1</th>\n      <td>1</td>\n      <td>439</td>\n      <td>3</td>\n    </tr>\n    <tr>\n      <th>2</th>\n      <td>1</td>\n      <td>588</td>\n      <td>5</td>\n    </tr>\n    <tr>\n      <th>3</th>\n      <td>1</td>\n      <td>1169</td>\n      <td>4</td>\n    </tr>\n    <tr>\n      <th>4</th>\n      <td>1</td>\n      <td>1185</td>\n      <td>4</td>\n    </tr>\n  </tbody>\n</table>\n</div>"
     },
     "metadata": {}
    }
   ]
  },
  {
   "cell_type": "code",
   "metadata": {
    "cell_id": "00013-cbd350ee-3a13-4dad-b387-69ac5e85cb26",
    "deepnote_to_be_reexecuted": true,
    "source_hash": "d7e1356d",
    "execution_start": 1620773958632,
    "execution_millis": 865,
    "deepnote_cell_type": "code"
   },
   "source": "data = Dataset.load_from_df(ratings[['book_id', 'user_id', 'rating']], reader)\nsvd = SVD()",
   "execution_count": null,
   "outputs": []
  },
  {
   "cell_type": "code",
   "metadata": {
    "cell_id": "00014-81aaff4c-e324-49ac-bdf6-95e9e48a39c4",
    "deepnote_to_be_reexecuted": true,
    "source_hash": "cfd0d22",
    "execution_start": 1620773959516,
    "execution_millis": 50683,
    "deepnote_cell_type": "code"
   },
   "source": "trainset = data.build_full_trainset()\nsvd.fit(trainset)",
   "execution_count": null,
   "outputs": [
    {
     "output_type": "execute_result",
     "execution_count": 13,
     "data": {
      "text/plain": "<surprise.prediction_algorithms.matrix_factorization.SVD at 0x7f9c5f2159d0>"
     },
     "metadata": {}
    }
   ]
  },
  {
   "cell_type": "code",
   "metadata": {
    "cell_id": "00015-a328a4fa-8488-4c0e-b336-fc9e3ad853b4",
    "deepnote_to_be_reexecuted": true,
    "source_hash": "c1455ede",
    "execution_start": 1620774010189,
    "execution_millis": 10,
    "deepnote_cell_type": "code"
   },
   "source": "svd.predict(501, 6868, 4)",
   "execution_count": null,
   "outputs": [
    {
     "output_type": "execute_result",
     "execution_count": 14,
     "data": {
      "text/plain": "Prediction(uid=501, iid=6868, r_ui=4, est=3.260060092906961, details={'was_impossible': False})"
     },
     "metadata": {}
    }
   ]
  },
  {
   "cell_type": "markdown",
   "source": "# Hybrid Filtering\n### Menggunakan Content-based Filtering dan Collaborative Filtering",
   "metadata": {
    "cell_id": "00016-0e1a3818-1e89-4227-bf90-1abe88c33bf9",
    "deepnote_cell_type": "markdown"
   }
  },
  {
   "cell_type": "code",
   "metadata": {
    "cell_id": "00017-2969a26b-3855-4a13-940f-324697ff4746",
    "deepnote_to_be_reexecuted": true,
    "source_hash": "3e4c9dfe",
    "execution_start": 1620774010190,
    "deepnote_cell_type": "code"
   },
   "source": "def convert_int(x):\n    try:\n        return int(x)\n    except:\n        return np.nan",
   "execution_count": null,
   "outputs": []
  },
  {
   "cell_type": "code",
   "metadata": {
    "cell_id": "00018-f450fbbc-e0b6-4b76-ae4d-bf6f39a496e0",
    "deepnote_to_be_reexecuted": true,
    "source_hash": "750ff2b7",
    "execution_start": 1620774010191,
    "execution_millis": 93,
    "deepnote_cell_type": "code"
   },
   "source": "id_map = pd.read_csv('./dataset/books.csv')[['book_id', 'work_id', 'id']]\nid_map['book_id'] = id_map['book_id'].apply(convert_int)\nid_map = id_map.merge(books[['title', 'book_id']], on='book_id').set_index('title')",
   "execution_count": null,
   "outputs": []
  },
  {
   "cell_type": "code",
   "metadata": {
    "cell_id": "00019-bb09530b-bab9-4511-aaba-bd44d430b254",
    "deepnote_to_be_reexecuted": true,
    "source_hash": "66f280cf",
    "execution_start": 1620774010288,
    "deepnote_cell_type": "code"
   },
   "source": "indices_map = id_map.set_index('id')",
   "execution_count": null,
   "outputs": []
  },
  {
   "cell_type": "code",
   "metadata": {
    "cell_id": "00020-abe3b4aa-bfae-4b17-bda7-1fd583dc4ed0",
    "deepnote_to_be_reexecuted": true,
    "source_hash": "10c3b839",
    "execution_start": 1620774010291,
    "execution_millis": 3,
    "deepnote_cell_type": "code"
   },
   "source": "def hybrid(userId, title): #id\n    idx = indices[title]\n    \n    test = books[books['title'] == title]\n    test1 = test.values.tolist()\n    \n    print(f'Title: {test1[0][6]}')\n    print(f'Author: {test1[0][4]}')\n    print(f'Release Date: {test1[0][5]} \\n')\n\n    sim_scores = list(enumerate(cosine_sim_content[int(idx)]))\n    sim_scores = sorted(sim_scores, key=lambda x: x[1], reverse=True)\n    sim_scores = sim_scores[1:26]\n    book_indices = [i[0] for i in sim_scores]\n    \n    buks = books.iloc[book_indices][['title', 'authors', 'id', 'average_rating']]\n    buks['est'] = buks['id'].apply(lambda x: svd.predict(userId, indices_map.loc[x]['book_id']).est)\n    buks = buks.sort_values('est', ascending=False)\n    sum = 0\n    est = buks['est'].values.tolist()\n    avg = buks['average_rating'].values.tolist()\n    for i in range(len(est)):\n        sum += abs(est[i] - avg[i])\n    mae = sum/len(est)\n    print(f'MAE: {round(mae, 3)}')\n    newBuks = buks[buks['title'].notnull()]\n    return newBuks.head(10)",
   "execution_count": null,
   "outputs": []
  },
  {
   "cell_type": "code",
   "metadata": {
    "cell_id": "00021-0f944c8c-8cc6-4907-adb7-59ecb59bdbe6",
    "deepnote_to_be_reexecuted": true,
    "source_hash": "2fcafeb1",
    "execution_start": 1620774010296,
    "execution_millis": 52,
    "deepnote_cell_type": "code"
   },
   "source": "hybrid(1, \"Harry Potter and the Sorcerer's Stone (Harry Potter, #1)\")",
   "execution_count": null,
   "outputs": [
    {
     "name": "stdout",
     "text": "Title: Harry Potter and the Sorcerer's Stone (Harry Potter, #1)\nAuthor: J.K. Rowling, Mary GrandPré\nRelease Date: 1997.0 \n\nMAE: 0.257\n",
     "output_type": "stream"
    },
    {
     "output_type": "execute_result",
     "execution_count": 19,
     "data": {
      "application/vnd.deepnote.dataframe.v2+json": {
       "row_count": 10,
       "column_count": 5,
       "columns": [
        {
         "name": "title",
         "dtype": "object",
         "stats": {
          "unique_count": 10,
          "nan_count": 0,
          "categories": [
           {
            "name": "The Concrete Blonde (Harry Bosch, #3; Harry Bosch Universe, #3)",
            "count": 1
           },
           {
            "name": "Harry Potter and the Goblet of Fire (Harry Potter, #4)",
            "count": 1
           },
           {
            "name": "8 others",
            "count": 8
           }
          ]
         }
        },
        {
         "name": "authors",
         "dtype": "object",
         "stats": {
          "unique_count": 6,
          "nan_count": 0,
          "categories": [
           {
            "name": "J.K. Rowling, Mary GrandPré",
            "count": 4
           },
           {
            "name": "Michael Connelly",
            "count": 2
           },
           {
            "name": "4 others",
            "count": 4
           }
          ]
         }
        },
        {
         "name": "id",
         "dtype": "int64",
         "stats": {
          "unique_count": 10,
          "nan_count": 0,
          "min": "18",
          "max": "7018",
          "histogram": [
           {
            "bin_start": 18,
            "bin_end": 718,
            "count": 4
           },
           {
            "bin_start": 718,
            "bin_end": 1418,
            "count": 0
           },
           {
            "bin_start": 1418,
            "bin_end": 2118,
            "count": 1
           },
           {
            "bin_start": 2118,
            "bin_end": 2818,
            "count": 1
           },
           {
            "bin_start": 2818,
            "bin_end": 3518,
            "count": 1
           },
           {
            "bin_start": 3518,
            "bin_end": 4218,
            "count": 2
           },
           {
            "bin_start": 4218,
            "bin_end": 4918,
            "count": 0
           },
           {
            "bin_start": 4918,
            "bin_end": 5618,
            "count": 0
           },
           {
            "bin_start": 5618,
            "bin_end": 6318,
            "count": 0
           },
           {
            "bin_start": 6318,
            "bin_end": 7018,
            "count": 1
           }
          ]
         }
        },
        {
         "name": "average_rating",
         "dtype": "float64",
         "stats": {
          "unique_count": 9,
          "nan_count": 0,
          "min": "3.96",
          "max": "4.73",
          "histogram": [
           {
            "bin_start": 3.96,
            "bin_end": 4.037,
            "count": 1
           },
           {
            "bin_start": 4.037,
            "bin_end": 4.114,
            "count": 0
           },
           {
            "bin_start": 4.114,
            "bin_end": 4.191,
            "count": 2
           },
           {
            "bin_start": 4.191,
            "bin_end": 4.268,
            "count": 0
           },
           {
            "bin_start": 4.268,
            "bin_end": 4.345000000000001,
            "count": 0
           },
           {
            "bin_start": 4.345000000000001,
            "bin_end": 4.422000000000001,
            "count": 1
           },
           {
            "bin_start": 4.422000000000001,
            "bin_end": 4.4990000000000006,
            "count": 1
           },
           {
            "bin_start": 4.4990000000000006,
            "bin_end": 4.5760000000000005,
            "count": 3
           },
           {
            "bin_start": 4.5760000000000005,
            "bin_end": 4.6530000000000005,
            "count": 0
           },
           {
            "bin_start": 4.6530000000000005,
            "bin_end": 4.73,
            "count": 2
           }
          ]
         }
        },
        {
         "name": "est",
         "dtype": "float64",
         "stats": {
          "unique_count": 7,
          "nan_count": 0,
          "min": "4.327214332250415",
          "max": "4.823167852098065",
          "histogram": [
           {
            "bin_start": 4.327214332250415,
            "bin_end": 4.37680968423518,
            "count": 5
           },
           {
            "bin_start": 4.37680968423518,
            "bin_end": 4.426405036219945,
            "count": 1
           },
           {
            "bin_start": 4.426405036219945,
            "bin_end": 4.47600038820471,
            "count": 0
           },
           {
            "bin_start": 4.47600038820471,
            "bin_end": 4.525595740189475,
            "count": 1
           },
           {
            "bin_start": 4.525595740189475,
            "bin_end": 4.57519109217424,
            "count": 1
           },
           {
            "bin_start": 4.57519109217424,
            "bin_end": 4.624786444159005,
            "count": 1
           },
           {
            "bin_start": 4.624786444159005,
            "bin_end": 4.67438179614377,
            "count": 0
           },
           {
            "bin_start": 4.67438179614377,
            "bin_end": 4.723977148128535,
            "count": 0
           },
           {
            "bin_start": 4.723977148128535,
            "bin_end": 4.7735725001133,
            "count": 0
           },
           {
            "bin_start": 4.7735725001133,
            "bin_end": 4.823167852098065,
            "count": 1
           }
          ]
         }
        },
        {
         "name": "_deepnote_index_column",
         "dtype": "int64"
        }
       ],
       "rows_top": [
        {
         "title": "The Concrete Blonde (Harry Bosch, #3; Harry Bosch Universe, #3)",
         "authors": "Michael Connelly",
         "id": 3198,
         "average_rating": 4.12,
         "est": 4.823167852098065,
         "_deepnote_index_column": 3197
        },
        {
         "title": "Harry Potter and the Goblet of Fire (Harry Potter, #4)",
         "authors": "J.K. Rowling, Mary GrandPré",
         "id": 24,
         "average_rating": 4.53,
         "est": 4.607535872820085,
         "_deepnote_index_column": 23
        },
        {
         "title": "Harry Potter and the Chamber of Secrets (Harry Potter, #2)",
         "authors": "J.K. Rowling, Mary GrandPré",
         "id": 23,
         "average_rating": 4.37,
         "est": 4.5641447062286655,
         "_deepnote_index_column": 22
        },
        {
         "title": "Harry Potter Collection (Harry Potter, #1-6)",
         "authors": "J.K. Rowling",
         "id": 3753,
         "average_rating": 4.73,
         "est": 4.47661927914851,
         "_deepnote_index_column": 3752
        },
        {
         "title": "Harry Potter and the Order of the Phoenix (Harry Potter, #5)",
         "authors": "J.K. Rowling, Mary GrandPré",
         "id": 21,
         "average_rating": 4.46,
         "est": 4.381122903124436,
         "_deepnote_index_column": 20
        },
        {
         "title": "Harry Potter and the Prisoner of Azkaban (Harry Potter, #3)",
         "authors": "J.K. Rowling, Mary GrandPré, Rufus Beck",
         "id": 18,
         "average_rating": 4.53,
         "est": 4.350748219060369,
         "_deepnote_index_column": 17
        },
        {
         "title": "The Harry Potter Collection 1-4 (Harry Potter, #1-4)",
         "authors": "J.K. Rowling, Mary GrandPré",
         "id": 2101,
         "average_rating": 4.66,
         "est": 4.327214332250415,
         "_deepnote_index_column": 2100
        },
        {
         "title": "Trunk Music (Harry Bosch, #5; Harry Bosch Universe, #6)",
         "authors": "Michael Connelly",
         "id": 2751,
         "average_rating": 4.15,
         "est": 4.327214332250415,
         "_deepnote_index_column": 2750
        },
        {
         "title": "The Magical Worlds of Harry Potter: A Treasury of Myths, Legends, and Fascinating Facts",
         "authors": "David Colbert",
         "id": 7018,
         "average_rating": 3.96,
         "est": 4.327214332250415,
         "_deepnote_index_column": 7017
        },
        {
         "title": "Harry Potter Page to Screen: The Complete Filmmaking Journey",
         "authors": "Bob McCabe",
         "id": 3736,
         "average_rating": 4.56,
         "est": 4.327214332250415,
         "_deepnote_index_column": 3735
        }
       ],
       "rows_bottom": null
      },
      "text/plain": "                                                  title  \\\n3197  The Concrete Blonde (Harry Bosch, #3; Harry Bo...   \n23    Harry Potter and the Goblet of Fire (Harry Pot...   \n22    Harry Potter and the Chamber of Secrets (Harry...   \n3752       Harry Potter Collection (Harry Potter, #1-6)   \n20    Harry Potter and the Order of the Phoenix (Har...   \n17    Harry Potter and the Prisoner of Azkaban (Harr...   \n2100  The Harry Potter Collection 1-4 (Harry Potter,...   \n2750  Trunk Music (Harry Bosch, #5; Harry Bosch Univ...   \n7017  The Magical Worlds of Harry Potter: A Treasury...   \n3735  Harry Potter Page to Screen: The Complete Film...   \n\n                                      authors    id  average_rating       est  \n3197                         Michael Connelly  3198            4.12  4.823168  \n23                J.K. Rowling, Mary GrandPré    24            4.53  4.607536  \n22                J.K. Rowling, Mary GrandPré    23            4.37  4.564145  \n3752                             J.K. Rowling  3753            4.73  4.476619  \n20                J.K. Rowling, Mary GrandPré    21            4.46  4.381123  \n17    J.K. Rowling, Mary GrandPré, Rufus Beck    18            4.53  4.350748  \n2100              J.K. Rowling, Mary GrandPré  2101            4.66  4.327214  \n2750                         Michael Connelly  2751            4.15  4.327214  \n7017                            David Colbert  7018            3.96  4.327214  \n3735                               Bob McCabe  3736            4.56  4.327214  ",
      "text/html": "<div>\n<style scoped>\n    .dataframe tbody tr th:only-of-type {\n        vertical-align: middle;\n    }\n\n    .dataframe tbody tr th {\n        vertical-align: top;\n    }\n\n    .dataframe thead th {\n        text-align: right;\n    }\n</style>\n<table border=\"1\" class=\"dataframe\">\n  <thead>\n    <tr style=\"text-align: right;\">\n      <th></th>\n      <th>title</th>\n      <th>authors</th>\n      <th>id</th>\n      <th>average_rating</th>\n      <th>est</th>\n    </tr>\n  </thead>\n  <tbody>\n    <tr>\n      <th>3197</th>\n      <td>The Concrete Blonde (Harry Bosch, #3; Harry Bo...</td>\n      <td>Michael Connelly</td>\n      <td>3198</td>\n      <td>4.12</td>\n      <td>4.823168</td>\n    </tr>\n    <tr>\n      <th>23</th>\n      <td>Harry Potter and the Goblet of Fire (Harry Pot...</td>\n      <td>J.K. Rowling, Mary GrandPré</td>\n      <td>24</td>\n      <td>4.53</td>\n      <td>4.607536</td>\n    </tr>\n    <tr>\n      <th>22</th>\n      <td>Harry Potter and the Chamber of Secrets (Harry...</td>\n      <td>J.K. Rowling, Mary GrandPré</td>\n      <td>23</td>\n      <td>4.37</td>\n      <td>4.564145</td>\n    </tr>\n    <tr>\n      <th>3752</th>\n      <td>Harry Potter Collection (Harry Potter, #1-6)</td>\n      <td>J.K. Rowling</td>\n      <td>3753</td>\n      <td>4.73</td>\n      <td>4.476619</td>\n    </tr>\n    <tr>\n      <th>20</th>\n      <td>Harry Potter and the Order of the Phoenix (Har...</td>\n      <td>J.K. Rowling, Mary GrandPré</td>\n      <td>21</td>\n      <td>4.46</td>\n      <td>4.381123</td>\n    </tr>\n    <tr>\n      <th>17</th>\n      <td>Harry Potter and the Prisoner of Azkaban (Harr...</td>\n      <td>J.K. Rowling, Mary GrandPré, Rufus Beck</td>\n      <td>18</td>\n      <td>4.53</td>\n      <td>4.350748</td>\n    </tr>\n    <tr>\n      <th>2100</th>\n      <td>The Harry Potter Collection 1-4 (Harry Potter,...</td>\n      <td>J.K. Rowling, Mary GrandPré</td>\n      <td>2101</td>\n      <td>4.66</td>\n      <td>4.327214</td>\n    </tr>\n    <tr>\n      <th>2750</th>\n      <td>Trunk Music (Harry Bosch, #5; Harry Bosch Univ...</td>\n      <td>Michael Connelly</td>\n      <td>2751</td>\n      <td>4.15</td>\n      <td>4.327214</td>\n    </tr>\n    <tr>\n      <th>7017</th>\n      <td>The Magical Worlds of Harry Potter: A Treasury...</td>\n      <td>David Colbert</td>\n      <td>7018</td>\n      <td>3.96</td>\n      <td>4.327214</td>\n    </tr>\n    <tr>\n      <th>3735</th>\n      <td>Harry Potter Page to Screen: The Complete Film...</td>\n      <td>Bob McCabe</td>\n      <td>3736</td>\n      <td>4.56</td>\n      <td>4.327214</td>\n    </tr>\n  </tbody>\n</table>\n</div>"
     },
     "metadata": {}
    }
   ]
  },
  {
   "cell_type": "code",
   "metadata": {
    "cell_id": "00022-3a066377-ec66-4945-b679-3220e8cd0a3f",
    "deepnote_to_be_reexecuted": true,
    "source_hash": "fe21be02",
    "execution_start": 1620774010366,
    "execution_millis": 42,
    "deepnote_cell_type": "code"
   },
   "source": "hybrid(2, \"Harry Potter and the Sorcerer's Stone (Harry Potter, #1)\")",
   "execution_count": null,
   "outputs": [
    {
     "name": "stdout",
     "text": "Title: Harry Potter and the Sorcerer's Stone (Harry Potter, #1)\nAuthor: J.K. Rowling, Mary GrandPré\nRelease Date: 1997.0 \n\nMAE: 0.311\n",
     "output_type": "stream"
    },
    {
     "output_type": "execute_result",
     "execution_count": 20,
     "data": {
      "application/vnd.deepnote.dataframe.v2+json": {
       "row_count": 10,
       "column_count": 5,
       "columns": [
        {
         "name": "title",
         "dtype": "object",
         "stats": {
          "unique_count": 10,
          "nan_count": 0,
          "categories": [
           {
            "name": "The Concrete Blonde (Harry Bosch, #3; Harry Bosch Universe, #3)",
            "count": 1
           },
           {
            "name": "Harry Potter and the Order of the Phoenix (Harry Potter, #5)",
            "count": 1
           },
           {
            "name": "8 others",
            "count": 8
           }
          ]
         }
        },
        {
         "name": "authors",
         "dtype": "object",
         "stats": {
          "unique_count": 5,
          "nan_count": 0,
          "categories": [
           {
            "name": "J.K. Rowling, Mary GrandPré",
            "count": 4
           },
           {
            "name": "Michael Connelly",
            "count": 3
           },
           {
            "name": "3 others",
            "count": 3
           }
          ]
         }
        },
        {
         "name": "id",
         "dtype": "int64",
         "stats": {
          "unique_count": 10,
          "nan_count": 0,
          "min": "18",
          "max": "7018",
          "histogram": [
           {
            "bin_start": 18,
            "bin_end": 718,
            "count": 4
           },
           {
            "bin_start": 718,
            "bin_end": 1418,
            "count": 0
           },
           {
            "bin_start": 1418,
            "bin_end": 2118,
            "count": 1
           },
           {
            "bin_start": 2118,
            "bin_end": 2818,
            "count": 2
           },
           {
            "bin_start": 2818,
            "bin_end": 3518,
            "count": 1
           },
           {
            "bin_start": 3518,
            "bin_end": 4218,
            "count": 1
           },
           {
            "bin_start": 4218,
            "bin_end": 4918,
            "count": 0
           },
           {
            "bin_start": 4918,
            "bin_end": 5618,
            "count": 0
           },
           {
            "bin_start": 5618,
            "bin_end": 6318,
            "count": 0
           },
           {
            "bin_start": 6318,
            "bin_end": 7018,
            "count": 1
           }
          ]
         }
        },
        {
         "name": "average_rating",
         "dtype": "float64",
         "stats": {
          "unique_count": 9,
          "nan_count": 0,
          "min": "3.96",
          "max": "4.66",
          "histogram": [
           {
            "bin_start": 3.96,
            "bin_end": 4.03,
            "count": 1
           },
           {
            "bin_start": 4.03,
            "bin_end": 4.1,
            "count": 0
           },
           {
            "bin_start": 4.1,
            "bin_end": 4.17,
            "count": 2
           },
           {
            "bin_start": 4.17,
            "bin_end": 4.24,
            "count": 1
           },
           {
            "bin_start": 4.24,
            "bin_end": 4.3100000000000005,
            "count": 0
           },
           {
            "bin_start": 4.3100000000000005,
            "bin_end": 4.38,
            "count": 0
           },
           {
            "bin_start": 4.38,
            "bin_end": 4.45,
            "count": 0
           },
           {
            "bin_start": 4.45,
            "bin_end": 4.5200000000000005,
            "count": 1
           },
           {
            "bin_start": 4.5200000000000005,
            "bin_end": 4.59,
            "count": 4
           },
           {
            "bin_start": 4.59,
            "bin_end": 4.66,
            "count": 1
           }
          ]
         }
        },
        {
         "name": "est",
         "dtype": "float64",
         "stats": {
          "unique_count": 7,
          "nan_count": 0,
          "min": "4.2257554675366835",
          "max": "4.554037727343414",
          "histogram": [
           {
            "bin_start": 4.2257554675366835,
            "bin_end": 4.258583693517356,
            "count": 5
           },
           {
            "bin_start": 4.258583693517356,
            "bin_end": 4.29141191949803,
            "count": 0
           },
           {
            "bin_start": 4.29141191949803,
            "bin_end": 4.3242401454787025,
            "count": 0
           },
           {
            "bin_start": 4.3242401454787025,
            "bin_end": 4.357068371459376,
            "count": 1
           },
           {
            "bin_start": 4.357068371459376,
            "bin_end": 4.389896597440049,
            "count": 0
           },
           {
            "bin_start": 4.389896597440049,
            "bin_end": 4.4227248234207215,
            "count": 1
           },
           {
            "bin_start": 4.4227248234207215,
            "bin_end": 4.455553049401395,
            "count": 2
           },
           {
            "bin_start": 4.455553049401395,
            "bin_end": 4.488381275382068,
            "count": 0
           },
           {
            "bin_start": 4.488381275382068,
            "bin_end": 4.521209501362741,
            "count": 0
           },
           {
            "bin_start": 4.521209501362741,
            "bin_end": 4.554037727343414,
            "count": 1
           }
          ]
         }
        },
        {
         "name": "_deepnote_index_column",
         "dtype": "int64"
        }
       ],
       "rows_top": [
        {
         "title": "The Concrete Blonde (Harry Bosch, #3; Harry Bosch Universe, #3)",
         "authors": "Michael Connelly",
         "id": 3198,
         "average_rating": 4.12,
         "est": 4.554037727343414,
         "_deepnote_index_column": 3197
        },
        {
         "title": "Harry Potter and the Order of the Phoenix (Harry Potter, #5)",
         "authors": "J.K. Rowling, Mary GrandPré",
         "id": 21,
         "average_rating": 4.46,
         "est": 4.4418627530828285,
         "_deepnote_index_column": 20
        },
        {
         "title": "Harry Potter and the Prisoner of Azkaban (Harry Potter, #3)",
         "authors": "J.K. Rowling, Mary GrandPré, Rufus Beck",
         "id": 18,
         "average_rating": 4.53,
         "est": 4.441668563913289,
         "_deepnote_index_column": 17
        },
        {
         "title": "The Last Coyote (Harry Bosch, #4; Harry Bosch Universe, #4)",
         "authors": "Michael Connelly",
         "id": 2497,
         "average_rating": 4.21,
         "est": 4.414830027248054,
         "_deepnote_index_column": 2496
        },
        {
         "title": "Harry Potter and the Goblet of Fire (Harry Potter, #4)",
         "authors": "J.K. Rowling, Mary GrandPré",
         "id": 24,
         "average_rating": 4.53,
         "est": 4.325324119269013,
         "_deepnote_index_column": 23
        },
        {
         "title": "Harry Potter and the Half-Blood Prince (Harry Potter, #6)",
         "authors": "J.K. Rowling, Mary GrandPré",
         "id": 27,
         "average_rating": 4.54,
         "est": 4.252702231946113,
         "_deepnote_index_column": 26
        },
        {
         "title": "The Harry Potter Collection 1-4 (Harry Potter, #1-4)",
         "authors": "J.K. Rowling, Mary GrandPré",
         "id": 2101,
         "average_rating": 4.66,
         "est": 4.2257554675366835,
         "_deepnote_index_column": 2100
        },
        {
         "title": "Trunk Music (Harry Bosch, #5; Harry Bosch Universe, #6)",
         "authors": "Michael Connelly",
         "id": 2751,
         "average_rating": 4.15,
         "est": 4.2257554675366835,
         "_deepnote_index_column": 2750
        },
        {
         "title": "The Magical Worlds of Harry Potter: A Treasury of Myths, Legends, and Fascinating Facts",
         "authors": "David Colbert",
         "id": 7018,
         "average_rating": 3.96,
         "est": 4.2257554675366835,
         "_deepnote_index_column": 7017
        },
        {
         "title": "Harry Potter Page to Screen: The Complete Filmmaking Journey",
         "authors": "Bob McCabe",
         "id": 3736,
         "average_rating": 4.56,
         "est": 4.2257554675366835,
         "_deepnote_index_column": 3735
        }
       ],
       "rows_bottom": null
      },
      "text/plain": "                                                  title  \\\n3197  The Concrete Blonde (Harry Bosch, #3; Harry Bo...   \n20    Harry Potter and the Order of the Phoenix (Har...   \n17    Harry Potter and the Prisoner of Azkaban (Harr...   \n2496  The Last Coyote (Harry Bosch, #4; Harry Bosch ...   \n23    Harry Potter and the Goblet of Fire (Harry Pot...   \n26    Harry Potter and the Half-Blood Prince (Harry ...   \n2100  The Harry Potter Collection 1-4 (Harry Potter,...   \n2750  Trunk Music (Harry Bosch, #5; Harry Bosch Univ...   \n7017  The Magical Worlds of Harry Potter: A Treasury...   \n3735  Harry Potter Page to Screen: The Complete Film...   \n\n                                      authors    id  average_rating       est  \n3197                         Michael Connelly  3198            4.12  4.554038  \n20                J.K. Rowling, Mary GrandPré    21            4.46  4.441863  \n17    J.K. Rowling, Mary GrandPré, Rufus Beck    18            4.53  4.441669  \n2496                         Michael Connelly  2497            4.21  4.414830  \n23                J.K. Rowling, Mary GrandPré    24            4.53  4.325324  \n26                J.K. Rowling, Mary GrandPré    27            4.54  4.252702  \n2100              J.K. Rowling, Mary GrandPré  2101            4.66  4.225755  \n2750                         Michael Connelly  2751            4.15  4.225755  \n7017                            David Colbert  7018            3.96  4.225755  \n3735                               Bob McCabe  3736            4.56  4.225755  ",
      "text/html": "<div>\n<style scoped>\n    .dataframe tbody tr th:only-of-type {\n        vertical-align: middle;\n    }\n\n    .dataframe tbody tr th {\n        vertical-align: top;\n    }\n\n    .dataframe thead th {\n        text-align: right;\n    }\n</style>\n<table border=\"1\" class=\"dataframe\">\n  <thead>\n    <tr style=\"text-align: right;\">\n      <th></th>\n      <th>title</th>\n      <th>authors</th>\n      <th>id</th>\n      <th>average_rating</th>\n      <th>est</th>\n    </tr>\n  </thead>\n  <tbody>\n    <tr>\n      <th>3197</th>\n      <td>The Concrete Blonde (Harry Bosch, #3; Harry Bo...</td>\n      <td>Michael Connelly</td>\n      <td>3198</td>\n      <td>4.12</td>\n      <td>4.554038</td>\n    </tr>\n    <tr>\n      <th>20</th>\n      <td>Harry Potter and the Order of the Phoenix (Har...</td>\n      <td>J.K. Rowling, Mary GrandPré</td>\n      <td>21</td>\n      <td>4.46</td>\n      <td>4.441863</td>\n    </tr>\n    <tr>\n      <th>17</th>\n      <td>Harry Potter and the Prisoner of Azkaban (Harr...</td>\n      <td>J.K. Rowling, Mary GrandPré, Rufus Beck</td>\n      <td>18</td>\n      <td>4.53</td>\n      <td>4.441669</td>\n    </tr>\n    <tr>\n      <th>2496</th>\n      <td>The Last Coyote (Harry Bosch, #4; Harry Bosch ...</td>\n      <td>Michael Connelly</td>\n      <td>2497</td>\n      <td>4.21</td>\n      <td>4.414830</td>\n    </tr>\n    <tr>\n      <th>23</th>\n      <td>Harry Potter and the Goblet of Fire (Harry Pot...</td>\n      <td>J.K. Rowling, Mary GrandPré</td>\n      <td>24</td>\n      <td>4.53</td>\n      <td>4.325324</td>\n    </tr>\n    <tr>\n      <th>26</th>\n      <td>Harry Potter and the Half-Blood Prince (Harry ...</td>\n      <td>J.K. Rowling, Mary GrandPré</td>\n      <td>27</td>\n      <td>4.54</td>\n      <td>4.252702</td>\n    </tr>\n    <tr>\n      <th>2100</th>\n      <td>The Harry Potter Collection 1-4 (Harry Potter,...</td>\n      <td>J.K. Rowling, Mary GrandPré</td>\n      <td>2101</td>\n      <td>4.66</td>\n      <td>4.225755</td>\n    </tr>\n    <tr>\n      <th>2750</th>\n      <td>Trunk Music (Harry Bosch, #5; Harry Bosch Univ...</td>\n      <td>Michael Connelly</td>\n      <td>2751</td>\n      <td>4.15</td>\n      <td>4.225755</td>\n    </tr>\n    <tr>\n      <th>7017</th>\n      <td>The Magical Worlds of Harry Potter: A Treasury...</td>\n      <td>David Colbert</td>\n      <td>7018</td>\n      <td>3.96</td>\n      <td>4.225755</td>\n    </tr>\n    <tr>\n      <th>3735</th>\n      <td>Harry Potter Page to Screen: The Complete Film...</td>\n      <td>Bob McCabe</td>\n      <td>3736</td>\n      <td>4.56</td>\n      <td>4.225755</td>\n    </tr>\n  </tbody>\n</table>\n</div>"
     },
     "metadata": {}
    }
   ]
  },
  {
   "cell_type": "code",
   "metadata": {
    "cell_id": "00023-329862c8-8ce7-4031-bb1f-a4bac20d2cea",
    "deepnote_to_be_reexecuted": true,
    "source_hash": "b33b09bc",
    "execution_start": 1620774010403,
    "execution_millis": 67,
    "deepnote_cell_type": "code"
   },
   "source": "hybrid(50, \"Harry Potter and the Sorcerer's Stone (Harry Potter, #1)\")",
   "execution_count": null,
   "outputs": [
    {
     "name": "stdout",
     "text": "Title: Harry Potter and the Sorcerer's Stone (Harry Potter, #1)\nAuthor: J.K. Rowling, Mary GrandPré\nRelease Date: 1997.0 \n\nMAE: 0.308\n",
     "output_type": "stream"
    },
    {
     "output_type": "execute_result",
     "execution_count": 21,
     "data": {
      "application/vnd.deepnote.dataframe.v2+json": {
       "row_count": 10,
       "column_count": 5,
       "columns": [
        {
         "name": "title",
         "dtype": "object",
         "stats": {
          "unique_count": 10,
          "nan_count": 0,
          "categories": [
           {
            "name": "The Concrete Blonde (Harry Bosch, #3; Harry Bosch Universe, #3)",
            "count": 1
           },
           {
            "name": "Harry Potter and the Order of the Phoenix (Harry Potter, #5)",
            "count": 1
           },
           {
            "name": "8 others",
            "count": 8
           }
          ]
         }
        },
        {
         "name": "authors",
         "dtype": "object",
         "stats": {
          "unique_count": 5,
          "nan_count": 0,
          "categories": [
           {
            "name": "J.K. Rowling, Mary GrandPré",
            "count": 4
           },
           {
            "name": "Michael Connelly",
            "count": 3
           },
           {
            "name": "3 others",
            "count": 3
           }
          ]
         }
        },
        {
         "name": "id",
         "dtype": "int64",
         "stats": {
          "unique_count": 10,
          "nan_count": 0,
          "min": "18",
          "max": "3753",
          "histogram": [
           {
            "bin_start": 18,
            "bin_end": 391.5,
            "count": 5
           },
           {
            "bin_start": 391.5,
            "bin_end": 765,
            "count": 0
           },
           {
            "bin_start": 765,
            "bin_end": 1138.5,
            "count": 0
           },
           {
            "bin_start": 1138.5,
            "bin_end": 1512,
            "count": 0
           },
           {
            "bin_start": 1512,
            "bin_end": 1885.5,
            "count": 0
           },
           {
            "bin_start": 1885.5,
            "bin_end": 2259,
            "count": 1
           },
           {
            "bin_start": 2259,
            "bin_end": 2632.5,
            "count": 1
           },
           {
            "bin_start": 2632.5,
            "bin_end": 3006,
            "count": 1
           },
           {
            "bin_start": 3006,
            "bin_end": 3379.5,
            "count": 1
           },
           {
            "bin_start": 3379.5,
            "bin_end": 3753,
            "count": 1
           }
          ]
         }
        },
        {
         "name": "average_rating",
         "dtype": "float64",
         "stats": {
          "unique_count": 9,
          "nan_count": 0,
          "min": "4.12",
          "max": "4.73",
          "histogram": [
           {
            "bin_start": 4.12,
            "bin_end": 4.181,
            "count": 2
           },
           {
            "bin_start": 4.181,
            "bin_end": 4.242,
            "count": 1
           },
           {
            "bin_start": 4.242,
            "bin_end": 4.303,
            "count": 0
           },
           {
            "bin_start": 4.303,
            "bin_end": 4.364,
            "count": 0
           },
           {
            "bin_start": 4.364,
            "bin_end": 4.425000000000001,
            "count": 1
           },
           {
            "bin_start": 4.425000000000001,
            "bin_end": 4.486000000000001,
            "count": 2
           },
           {
            "bin_start": 4.486000000000001,
            "bin_end": 4.547000000000001,
            "count": 3
           },
           {
            "bin_start": 4.547000000000001,
            "bin_end": 4.6080000000000005,
            "count": 0
           },
           {
            "bin_start": 4.6080000000000005,
            "bin_end": 4.6690000000000005,
            "count": 0
           },
           {
            "bin_start": 4.6690000000000005,
            "bin_end": 4.73,
            "count": 1
           }
          ]
         }
        },
        {
         "name": "est",
         "dtype": "float64",
         "stats": {
          "unique_count": 9,
          "nan_count": 0,
          "min": "4.161943862345958",
          "max": "4.421628872104184",
          "histogram": [
           {
            "bin_start": 4.161943862345958,
            "bin_end": 4.1879123633217805,
            "count": 2
           },
           {
            "bin_start": 4.1879123633217805,
            "bin_end": 4.213880864297603,
            "count": 0
           },
           {
            "bin_start": 4.213880864297603,
            "bin_end": 4.239849365273426,
            "count": 1
           },
           {
            "bin_start": 4.239849365273426,
            "bin_end": 4.2658178662492485,
            "count": 0
           },
           {
            "bin_start": 4.2658178662492485,
            "bin_end": 4.291786367225071,
            "count": 1
           },
           {
            "bin_start": 4.291786367225071,
            "bin_end": 4.317754868200893,
            "count": 1
           },
           {
            "bin_start": 4.317754868200893,
            "bin_end": 4.343723369176716,
            "count": 1
           },
           {
            "bin_start": 4.343723369176716,
            "bin_end": 4.369691870152539,
            "count": 3
           },
           {
            "bin_start": 4.369691870152539,
            "bin_end": 4.395660371128361,
            "count": 0
           },
           {
            "bin_start": 4.395660371128361,
            "bin_end": 4.421628872104184,
            "count": 1
           }
          ]
         }
        },
        {
         "name": "_deepnote_index_column",
         "dtype": "int64"
        }
       ],
       "rows_top": [
        {
         "title": "The Concrete Blonde (Harry Bosch, #3; Harry Bosch Universe, #3)",
         "authors": "Michael Connelly",
         "id": 3198,
         "average_rating": 4.12,
         "est": 4.421628872104184,
         "_deepnote_index_column": 3197
        },
        {
         "title": "Harry Potter and the Order of the Phoenix (Harry Potter, #5)",
         "authors": "J.K. Rowling, Mary GrandPré",
         "id": 21,
         "average_rating": 4.46,
         "est": 4.360427989246855,
         "_deepnote_index_column": 20
        },
        {
         "title": "The Last Coyote (Harry Bosch, #4; Harry Bosch Universe, #4)",
         "authors": "Michael Connelly",
         "id": 2497,
         "average_rating": 4.21,
         "est": 4.351805750922119,
         "_deepnote_index_column": 2496
        },
        {
         "title": "Harry Potter and the Prisoner of Azkaban (Harry Potter, #3)",
         "authors": "J.K. Rowling, Mary GrandPré, Rufus Beck",
         "id": 18,
         "average_rating": 4.53,
         "est": 4.347803850095127,
         "_deepnote_index_column": 17
        },
        {
         "title": "Harry Potter and the Goblet of Fire (Harry Potter, #4)",
         "authors": "J.K. Rowling, Mary GrandPré",
         "id": 24,
         "average_rating": 4.53,
         "est": 4.3268849376312915,
         "_deepnote_index_column": 23
        },
        {
         "title": "Harry Potter Collection (Harry Potter, #1-6)",
         "authors": "J.K. Rowling",
         "id": 3753,
         "average_rating": 4.73,
         "est": 4.2985712650653785,
         "_deepnote_index_column": 3752
        },
        {
         "title": "Harry Potter and the Chamber of Secrets (Harry Potter, #2)",
         "authors": "J.K. Rowling, Mary GrandPré",
         "id": 23,
         "average_rating": 4.37,
         "est": 4.285836883709199,
         "_deepnote_index_column": 22
        },
        {
         "title": "Harry Potter and the Half-Blood Prince (Harry Potter, #6)",
         "authors": "J.K. Rowling, Mary GrandPré",
         "id": 27,
         "average_rating": 4.54,
         "est": 4.230237456793582,
         "_deepnote_index_column": 26
        },
        {
         "title": "Harry Potter: Film Wizardry",
         "authors": "Brian Sibley",
         "id": 2001,
         "average_rating": 4.48,
         "est": 4.161943862345958,
         "_deepnote_index_column": 2000
        },
        {
         "title": "Trunk Music (Harry Bosch, #5; Harry Bosch Universe, #6)",
         "authors": "Michael Connelly",
         "id": 2751,
         "average_rating": 4.15,
         "est": 4.161943862345958,
         "_deepnote_index_column": 2750
        }
       ],
       "rows_bottom": null
      },
      "text/plain": "                                                  title  \\\n3197  The Concrete Blonde (Harry Bosch, #3; Harry Bo...   \n20    Harry Potter and the Order of the Phoenix (Har...   \n2496  The Last Coyote (Harry Bosch, #4; Harry Bosch ...   \n17    Harry Potter and the Prisoner of Azkaban (Harr...   \n23    Harry Potter and the Goblet of Fire (Harry Pot...   \n3752       Harry Potter Collection (Harry Potter, #1-6)   \n22    Harry Potter and the Chamber of Secrets (Harry...   \n26    Harry Potter and the Half-Blood Prince (Harry ...   \n2000                        Harry Potter: Film Wizardry   \n2750  Trunk Music (Harry Bosch, #5; Harry Bosch Univ...   \n\n                                      authors    id  average_rating       est  \n3197                         Michael Connelly  3198            4.12  4.421629  \n20                J.K. Rowling, Mary GrandPré    21            4.46  4.360428  \n2496                         Michael Connelly  2497            4.21  4.351806  \n17    J.K. Rowling, Mary GrandPré, Rufus Beck    18            4.53  4.347804  \n23                J.K. Rowling, Mary GrandPré    24            4.53  4.326885  \n3752                             J.K. Rowling  3753            4.73  4.298571  \n22                J.K. Rowling, Mary GrandPré    23            4.37  4.285837  \n26                J.K. Rowling, Mary GrandPré    27            4.54  4.230237  \n2000                             Brian Sibley  2001            4.48  4.161944  \n2750                         Michael Connelly  2751            4.15  4.161944  ",
      "text/html": "<div>\n<style scoped>\n    .dataframe tbody tr th:only-of-type {\n        vertical-align: middle;\n    }\n\n    .dataframe tbody tr th {\n        vertical-align: top;\n    }\n\n    .dataframe thead th {\n        text-align: right;\n    }\n</style>\n<table border=\"1\" class=\"dataframe\">\n  <thead>\n    <tr style=\"text-align: right;\">\n      <th></th>\n      <th>title</th>\n      <th>authors</th>\n      <th>id</th>\n      <th>average_rating</th>\n      <th>est</th>\n    </tr>\n  </thead>\n  <tbody>\n    <tr>\n      <th>3197</th>\n      <td>The Concrete Blonde (Harry Bosch, #3; Harry Bo...</td>\n      <td>Michael Connelly</td>\n      <td>3198</td>\n      <td>4.12</td>\n      <td>4.421629</td>\n    </tr>\n    <tr>\n      <th>20</th>\n      <td>Harry Potter and the Order of the Phoenix (Har...</td>\n      <td>J.K. Rowling, Mary GrandPré</td>\n      <td>21</td>\n      <td>4.46</td>\n      <td>4.360428</td>\n    </tr>\n    <tr>\n      <th>2496</th>\n      <td>The Last Coyote (Harry Bosch, #4; Harry Bosch ...</td>\n      <td>Michael Connelly</td>\n      <td>2497</td>\n      <td>4.21</td>\n      <td>4.351806</td>\n    </tr>\n    <tr>\n      <th>17</th>\n      <td>Harry Potter and the Prisoner of Azkaban (Harr...</td>\n      <td>J.K. Rowling, Mary GrandPré, Rufus Beck</td>\n      <td>18</td>\n      <td>4.53</td>\n      <td>4.347804</td>\n    </tr>\n    <tr>\n      <th>23</th>\n      <td>Harry Potter and the Goblet of Fire (Harry Pot...</td>\n      <td>J.K. Rowling, Mary GrandPré</td>\n      <td>24</td>\n      <td>4.53</td>\n      <td>4.326885</td>\n    </tr>\n    <tr>\n      <th>3752</th>\n      <td>Harry Potter Collection (Harry Potter, #1-6)</td>\n      <td>J.K. Rowling</td>\n      <td>3753</td>\n      <td>4.73</td>\n      <td>4.298571</td>\n    </tr>\n    <tr>\n      <th>22</th>\n      <td>Harry Potter and the Chamber of Secrets (Harry...</td>\n      <td>J.K. Rowling, Mary GrandPré</td>\n      <td>23</td>\n      <td>4.37</td>\n      <td>4.285837</td>\n    </tr>\n    <tr>\n      <th>26</th>\n      <td>Harry Potter and the Half-Blood Prince (Harry ...</td>\n      <td>J.K. Rowling, Mary GrandPré</td>\n      <td>27</td>\n      <td>4.54</td>\n      <td>4.230237</td>\n    </tr>\n    <tr>\n      <th>2000</th>\n      <td>Harry Potter: Film Wizardry</td>\n      <td>Brian Sibley</td>\n      <td>2001</td>\n      <td>4.48</td>\n      <td>4.161944</td>\n    </tr>\n    <tr>\n      <th>2750</th>\n      <td>Trunk Music (Harry Bosch, #5; Harry Bosch Univ...</td>\n      <td>Michael Connelly</td>\n      <td>2751</td>\n      <td>4.15</td>\n      <td>4.161944</td>\n    </tr>\n  </tbody>\n</table>\n</div>"
     },
     "metadata": {}
    }
   ]
  },
  {
   "cell_type": "code",
   "metadata": {
    "cell_id": "00024-a23474ce-0762-4205-9832-8d98c2b48898",
    "deepnote_to_be_reexecuted": true,
    "source_hash": "b623e53d",
    "execution_start": 1620774010463,
    "deepnote_cell_type": "code"
   },
   "source": "",
   "execution_count": null,
   "outputs": []
  },
  {
   "cell_type": "markdown",
   "source": "<a style='text-decoration:none;line-height:16px;display:flex;color:#5B5B62;padding:10px;justify-content:end;' href='https://deepnote.com?utm_source=created-in-deepnote-cell&projectId=0b40164b-b106-44bf-9797-6a7361e30da7' target=\"_blank\">\n<img alt='Created in deepnote.com' style='display:inline;max-height:16px;margin:0px;margin-right:7.5px;' src='data:image/svg+xml;base64,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' > </img>\nCreated in <span style='font-weight:600;margin-left:4px;'>Deepnote</span></a>",
   "metadata": {
    "tags": [],
    "created_in_deepnote_cell": true,
    "deepnote_cell_type": "markdown"
   }
  }
 ],
 "nbformat": 4,
 "nbformat_minor": 2,
 "metadata": {
  "language_info": {
   "codemirror_mode": {
    "name": "ipython",
    "version": 3
   },
   "file_extension": ".py",
   "mimetype": "text/x-python",
   "name": "python",
   "nbconvert_exporter": "python",
   "pygments_lexer": "ipython3",
   "version": "3.9.1"
  },
  "orig_nbformat": 2,
  "kernelspec": {
   "name": "python391jvsc74a57bd0112f40161e87cdf99d798de2b86adf76c0b833717b9d65fa1f256b9c887e27bf",
   "display_name": "Python 3.9.1 64-bit"
  },
  "metadata": {
   "interpreter": {
    "hash": "112f40161e87cdf99d798de2b86adf76c0b833717b9d65fa1f256b9c887e27bf"
   }
  },
  "deepnote_notebook_id": "a2d6371d-ab74-49a5-bc6e-dda1fdbfe7f3",
  "deepnote": {},
  "deepnote_execution_queue": []
 }
}